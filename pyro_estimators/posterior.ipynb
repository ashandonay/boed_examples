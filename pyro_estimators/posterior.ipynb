{
 "cells": [
  {
   "cell_type": "code",
   "execution_count": 1,
   "metadata": {},
   "outputs": [],
   "source": [
    "%load_ext autoreload\n",
    "%autoreload 2"
   ]
  },
  {
   "cell_type": "code",
   "execution_count": 2,
   "metadata": {},
   "outputs": [],
   "source": [
    "import torch\n",
    "from torch import nn\n",
    "\n",
    "import numpy as np\n",
    "import pandas as pd\n",
    "from scipy.stats import norm\n",
    "from urllib.request import urlopen\n",
    "\n",
    "from torch.distributions.constraints import positive\n",
    "\n",
    "import pyro\n",
    "import pyro.distributions as dist\n",
    "from pyro.infer import SVI, Trace_ELBO\n",
    "from pyro.optim import Adam\n",
    "from pyro.contrib.oed.eig import marginal_eig\n",
    "from pyro.nn.module import to_pyro_module_\n",
    "import pyro.poutine as poutine\n",
    "from pyro.contrib.util import lexpand\n",
    "from pyro.nn import PyroModule, PyroSample, PyroParam\n",
    "\n",
    "import os\n",
    "import sys\n",
    "parent_dir_abs = os.path.abspath(os.pardir)\n",
    "sys.path.insert(0, parent_dir_abs) \n",
    "from pyro_oed_src import posterior_eig\n",
    "\n",
    "import matplotlib\n",
    "import matplotlib.pyplot as plt\n",
    "import matplotlib.colors as colors\n",
    "import matplotlib.cm as cmx\n",
    "import math"
   ]
  },
  {
   "cell_type": "code",
   "execution_count": 3,
   "metadata": {},
   "outputs": [
    {
     "name": "stdout",
     "output_type": "stream",
     "text": [
      "Using device: cuda.\n"
     ]
    }
   ],
   "source": [
    "device = torch.device(\"cuda\") if torch.cuda.is_available() else \"cpu\"\n",
    "#device = \"cpu\"\n",
    "print(f'Using device: {device}.')"
   ]
  },
  {
   "cell_type": "code",
   "execution_count": 4,
   "metadata": {},
   "outputs": [
    {
     "name": "stdout",
     "output_type": "stream",
     "text": [
      "torch.Size([64, 2])\n"
     ]
    }
   ],
   "source": [
    "N = 2000 # total number of points\n",
    "p = 8 # num of samples per each axis of (t_1, t_2)\n",
    "\n",
    "x = np.linspace(0, N, p, endpoint=False)\n",
    "y = np.linspace(0, N, p, endpoint=False)\n",
    "x2D,y2D = np.meshgrid(x,y)\n",
    "indices = np.stack((x2D,y2D),axis=2).reshape(-1,2).astype(int)\n",
    "times = np.linspace(0,2*np.pi,N)\n",
    "\n",
    "designs = torch.tensor(times[indices], device=device)\n",
    "#designs = torch.tensor(indices)\n",
    "print(designs.shape[-2:])"
   ]
  },
  {
   "cell_type": "code",
   "execution_count": 5,
   "metadata": {},
   "outputs": [],
   "source": [
    "w_1 = torch.tensor(1.0, device=device)\n",
    "w_2 = torch.tensor(3.0, device=device)\n",
    "sigma = torch.tensor(0.1, device=device)\n",
    "\n",
    "def model(t):\n",
    "    w = pyro.sample(\"w\", dist.Uniform(w_1,w_2))\n",
    "    phase = pyro.sample(\"phase\", dist.Uniform(np.pi/2, 3*np.pi/2))\n",
    "    with pyro.plate_stack(\"plate\", t.shape[:-1]): # create a continguous stack of plates, Pyro adds dimensions to the left\n",
    "        y_true = torch.sin(w*t+phase)\n",
    "        return pyro.sample(\"y\", dist.Normal(y_true,sigma).to_event(1)) # to_event: num of batch dimensions (from right) to reinterpret as event dimensions"
   ]
  },
  {
   "cell_type": "code",
   "execution_count": 23,
   "metadata": {},
   "outputs": [],
   "source": [
    "w_1 = torch.tensor(1.0)\n",
    "w_2 = torch.tensor(3.0)\n",
    "sigma = torch.tensor(0.1, device=device)\n",
    "\n",
    "phase_1 = torch.tensor(np.pi/2)\n",
    "phase_2 = torch.tensor(3*np.pi/2)\n",
    "\n",
    "def model(t):\n",
    "    with pyro.plate_stack(\"plate\", t.shape[:-1]): \n",
    "        w = pyro.sample(\"w\", dist.Uniform(w_1,w_2)).unsqueeze(-1).to(device) # shape: (n_designs, 1)\n",
    "        phase = pyro.sample(\"phase\", dist.Uniform(phase_1, phase_2)).unsqueeze(-1).to(device) # shape: (n_designs, 1)\n",
    "        y_true = torch.sin(w*t+phase) # shape: (n_designs, n_times)\n",
    "        return pyro.sample(\"y\", dist.Normal(y_true,sigma).to_event(1))"
   ]
  },
  {
   "cell_type": "code",
   "execution_count": 8,
   "metadata": {},
   "outputs": [],
   "source": [
    "def posterior_guide(y_dict, design, observation_labels, target_labels):\n",
    "    alpha = pyro.param(\"alpha\", torch.ones(design.shape))\n",
    "    beta = pyro.param(\"beta\", torch.ones(design.shape))\n",
    "    freq_mean = alpha*y_dict[\"y\"]\n",
    "    phase_mean = beta*y_dict[\"y\"]\n",
    "    #freq_mean = pyro.param(\"freq_mean\", torch.ones(design.shape[1]))\n",
    "    freq_sd = pyro.param(\"freq_sd\", torch.ones(design.shape), constraint=positive)\n",
    "    #phase_mean = pyro.param(\"phase_mean\", torch.ones(design.shape[1]))\n",
    "    phase_sd = pyro.param(\"phase_sd\", torch.ones(design.shape), constraint=positive)\n",
    "    pyro.sample(\"w\", dist.Normal(freq_mean, freq_sd).to_event(1))\n",
    "    pyro.sample(\"phase\", dist.Normal(phase_mean, phase_sd).to_event(1))"
   ]
  },
  {
   "cell_type": "code",
   "execution_count": 24,
   "metadata": {},
   "outputs": [],
   "source": [
    "class posterior_guide_nn(PyroModule):\n",
    "    def __init__(self, in_features, lay1_out, lay2_out):\n",
    "        super().__init__()\n",
    "        self.fa1 = nn.Linear(in_features, lay1_out).to(device)\n",
    "        self.fa2 = nn.Linear(lay1_out, lay2_out).to(device)\n",
    "        self.fa3 = nn.Linear(lay2_out,1).to(device)\n",
    "\n",
    "        self.pa1 = nn.Linear(in_features, lay1_out).to(device)\n",
    "        self.pa2 = nn.Linear(lay1_out, lay2_out).to(device)\n",
    "        self.pa3 = nn.Linear(lay2_out,1).to(device)\n",
    "\n",
    "        self.fb1 = nn.Linear(in_features, lay1_out).to(device)\n",
    "        self.fb2 = nn.Linear(lay1_out, lay2_out).to(device)\n",
    "        self.fb3 = nn.Linear(lay2_out,1).to(device)\n",
    "        \n",
    "        self.pb1 = nn.Linear(in_features, lay1_out).to(device)\n",
    "        self.pb2 = nn.Linear(lay1_out, lay2_out).to(device)\n",
    "        self.pb3 = nn.Linear(lay2_out,1).to(device)\n",
    "\n",
    "    def freq_nn_a(self, input):\n",
    "        z = nn.functional.relu(self.fa1(input))\n",
    "        z = nn.functional.relu(self.fa2(z))\n",
    "        return self.fa3(z)\n",
    "    \n",
    "    def phase_nn_a(self, input):\n",
    "        z = nn.functional.relu(self.pa1(input))\n",
    "        z = nn.functional.relu(self.pa2(z))\n",
    "        return self.pa3(z)\n",
    "    \n",
    "    def freq_nn_b(self, input):\n",
    "        z = nn.functional.relu(self.fb1(input))\n",
    "        z = nn.functional.relu(self.fb2(z))\n",
    "        return self.fb3(z)\n",
    "    \n",
    "    def phase_nn_b(self, input):\n",
    "        z = nn.functional.relu(self.pb1(input))\n",
    "        z = nn.functional.relu(self.pb2(z))\n",
    "        return self.pb3(z)\n",
    "    \n",
    "    def forward(self, y_dict, design, observation_labels, target_labels):\n",
    "\n",
    "        #pyro.module(\"posterior_guide\", self) # registers all parameters of a torch.nn.Module with Pyro's param_store\n",
    "\n",
    "        y = y_dict[\"y\"].float().to(device)\n",
    "        #z = torch.cat((y,design), dim=-1).float() # concatenate times of design into nn input\n",
    "        \n",
    "        freq_alpha = self.freq_nn_a(y).squeeze().to(device)\n",
    "        phase_alpha = self.phase_nn_a(y).squeeze().to(device)\n",
    "\n",
    "        freq_beta = self.freq_nn_b(y).squeeze().to(device)\n",
    "        phase_beta = self.phase_nn_b(y).squeeze().to(device)\n",
    "\n",
    "        pyro.sample(\"w\", dist.AffineBeta(freq_alpha.exp(), freq_beta.exp(), 1, 2)) # scaled beta distribution inputs:(alpha, beta, loc, scale) f(X) = loc + scale*X\n",
    "        pyro.sample(\"phase\", dist.AffineBeta(phase_alpha.exp(), phase_beta.exp(), np.pi/2, np.pi))"
   ]
  },
  {
   "cell_type": "code",
   "execution_count": 26,
   "metadata": {},
   "outputs": [],
   "source": [
    "eigs = {}\n",
    "full_history = []\n",
    "\n",
    "#pyro.set_rng_seed(6)\n",
    "num_steps = 300\n",
    "\n",
    "nn_guide = posterior_guide_nn(designs.shape[-1], 16, 32)\n",
    "for times in designs:\n",
    "    pyro.clear_param_store()\n",
    "    eig, history = posterior_eig(model,\n",
    "                    times,                          # tensor of possible designs\n",
    "                    \"y\",                            # observation labels\n",
    "                    [\"w\", \"phase\"],                 # target (parameter) labels\n",
    "                    num_samples=400,                # number of samples to draw per step in the expectation\n",
    "                    num_steps=num_steps,            # number of gradient steps\n",
    "                    guide=nn_guide,                 # guide q(y)\n",
    "                    optim=Adam({'lr': 5e-6}),      # optimizer \n",
    "                    eig=True,                       # compute the average posterior entropy (APE) instead of the EIG (if false)\n",
    "                    return_history=True             # returns a tensor giving the loss function at each step of optimization\n",
    "                    ) \n",
    "    full_history.append(history)\n",
    "    eigs[times] = eig\n",
    "\n",
    "\n",
    "full_history = torch.stack(full_history)\n",
    "\n",
    "# The APE is related to the EIG by: EIG(d) = H(p(theta))-APE(d) \n",
    "# where H is the differential entropy."
   ]
  },
  {
   "cell_type": "code",
   "execution_count": 27,
   "metadata": {},
   "outputs": [],
   "source": [
    "history_array = full_history.cpu().detach().numpy()\n",
    "\n",
    "average_loss = history_array.sum(axis=0)/history_array.shape[0]"
   ]
  },
  {
   "cell_type": "code",
   "execution_count": 28,
   "metadata": {},
   "outputs": [
    {
     "data": {
      "text/plain": [
       "[<matplotlib.lines.Line2D at 0x7fceb8ae19a0>]"
      ]
     },
     "execution_count": 28,
     "metadata": {},
     "output_type": "execute_result"
    },
    {
     "data": {
      "image/png": "[encoded data removed]",
      "text/plain": [
       "<Figure size 432x288 with 1 Axes>"
      ]
     },
     "metadata": {
      "needs_background": "light"
     },
     "output_type": "display_data"
    }
   ],
   "source": [
    "plt.plot(average_loss)"
   ]
  },
  {
   "cell_type": "code",
   "execution_count": 29,
   "metadata": {},
   "outputs": [
    {
     "data": {
      "image/png": "[encoded data removed]",
      "text/plain": [
       "<Figure size 576x576 with 2 Axes>"
      ]
     },
     "metadata": {
      "needs_background": "light"
     },
     "output_type": "display_data"
    }
   ],
   "source": [
    "eigs_list = np.array([i.cpu().detach().numpy() for i in eigs.values()])\n",
    "plt.figure(figsize=(8,8))\n",
    "img_2D = plt.imshow(eigs_list.reshape(p,p), origin=\"lower\")\n",
    "cbar = plt.colorbar(img_2D)\n",
    "cbar.set_label(\"utility\")\n",
    "#plt.axline((0,0), slope=1, c='black', linestyle='--')\n",
    "plt.xlabel(\"Time Sample 1\")\n",
    "plt.ylabel(\"Time Sample 2\")\n",
    "plt.show()"
   ]
  },
  {
   "cell_type": "code",
   "execution_count": null,
   "metadata": {},
   "outputs": [],
   "source": []
  }
 ],
 "metadata": {
  "kernelspec": {
   "display_name": "Python 3",
   "language": "python",
   "name": "python3"
  },
  "language_info": {
   "codemirror_mode": {
    "name": "ipython",
    "version": 3
   },
   "file_extension": ".py",
   "mimetype": "text/x-python",
   "name": "python",
   "nbconvert_exporter": "python",
   "pygments_lexer": "ipython3",
   "version": "3.8.10"
  },
  "orig_nbformat": 4,
  "vscode": {
   "interpreter": {
    "hash": "e7370f93d1d0cde622a1f8e1c04877d8463912d04d973331ad4851f04de6915a"
   }
  }
 },
 "nbformat": 4,
 "nbformat_minor": 2
}
