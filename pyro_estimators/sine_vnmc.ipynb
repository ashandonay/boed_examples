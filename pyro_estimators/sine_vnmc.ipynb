{
 "cells": [
  {
   "cell_type": "code",
   "execution_count": 21,
   "metadata": {},
   "outputs": [],
   "source": [
    "%load_ext autoreload\n",
    "%autoreload 2"
   ]
  },
  {
   "cell_type": "code",
   "execution_count": 23,
   "metadata": {},
   "outputs": [],
   "source": [
    "import torch\n",
    "from torch import nn\n",
    "\n",
    "import numpy as np\n",
    "import pandas as pd\n",
    "from scipy.stats import norm\n",
    "from urllib.request import urlopen\n",
    "\n",
    "from torch.distributions.constraints import positive\n",
    "\n",
    "import pyro\n",
    "import pyro.distributions as dist\n",
    "from pyro.infer import SVI, Trace_ELBO\n",
    "from pyro.optim import Adam\n",
    "from pyro.nn import PyroModule\n",
    "\n",
    "import os\n",
    "import sys\n",
    "parent_dir_abs = os.path.abspath(os.pardir)\n",
    "sys.path.insert(0, parent_dir_abs) \n",
    "from pyro_oed_src import vnmc_eig\n",
    "\n",
    "import matplotlib\n",
    "import matplotlib.pyplot as plt\n",
    "import matplotlib.colors as colors\n",
    "import matplotlib.cm as cmx"
   ]
  },
  {
   "cell_type": "code",
   "execution_count": 4,
   "metadata": {},
   "outputs": [
    {
     "name": "stdout",
     "output_type": "stream",
     "text": [
      "Using device: cuda.\n"
     ]
    }
   ],
   "source": [
    "device = torch.device(\"cuda\") if torch.cuda.is_available() else \"cpu\"\n",
    "#device = \"cpu\"\n",
    "print(f'Using device: {device}.')"
   ]
  },
  {
   "cell_type": "code",
   "execution_count": 16,
   "metadata": {},
   "outputs": [
    {
     "name": "stdout",
     "output_type": "stream",
     "text": [
      "torch.Size([64, 2])\n"
     ]
    }
   ],
   "source": [
    "N = 2000 # total number of points\n",
    "p = 8 # num of samples per each axis of (t_1, t_2)\n",
    "\n",
    "x = np.linspace(0, N, p, endpoint=False)\n",
    "y = np.linspace(0, N, p, endpoint=False)\n",
    "x2D,y2D = np.meshgrid(x,y)\n",
    "indices = np.stack((x2D,y2D),axis=2).reshape(-1,2).astype(int)\n",
    "times = np.linspace(0,2*np.pi,N)\n",
    "\n",
    "designs = torch.tensor(times[indices], device=device)\n",
    "#designs = torch.tensor(indices)\n",
    "print(designs.shape[-2:])"
   ]
  },
  {
   "cell_type": "code",
   "execution_count": 5,
   "metadata": {},
   "outputs": [],
   "source": [
    "w_1 = torch.tensor(1.0)\n",
    "w_2 = torch.tensor(3.0)\n",
    "sigma = torch.tensor(0.1)\n",
    "\n",
    "def model(t):\n",
    "    w = pyro.sample(\"w\", dist.Uniform(w_1,w_2))\n",
    "    phase = pyro.sample(\"phase\", dist.Uniform(np.pi/2, 3*np.pi/2))\n",
    "    with pyro.plate_stack(\"plate\", t.shape[:-1]):\n",
    "        y_true = torch.sin(w*t+phase)\n",
    "        return pyro.sample(\"y\", dist.Normal(y_true,sigma).to_event(1))"
   ]
  },
  {
   "cell_type": "code",
   "execution_count": 34,
   "metadata": {},
   "outputs": [],
   "source": [
    "w_1 = torch.tensor(1.0, device=device)\n",
    "w_2 = torch.tensor(3.0, device=device)\n",
    "sigma = torch.tensor(0.1, device=device)\n",
    "\n",
    "phase_1 = torch.tensor(np.pi/2, device=device)\n",
    "phase_2 = torch.tensor(3*np.pi/2, device=device)\n",
    "\n",
    "def model(t):\n",
    "    with pyro.plate_stack(\"plate\", t.shape[:-1]): \n",
    "        w = pyro.sample(\"w\", dist.Uniform(w_1,w_2)).unsqueeze(-1) # shape: (n_designs, 1)\n",
    "        phase = pyro.sample(\"phase\", dist.Uniform(phase_1, phase_2)).unsqueeze(-1) # shape: (n_designs, 1)\n",
    "        y_true = torch.sin(w*t+phase) # shape: (n_designs, n_times)\n",
    "        return pyro.sample(\"y\", dist.Normal(y_true,sigma).to_event(1))"
   ]
  },
  {
   "cell_type": "code",
   "execution_count": 35,
   "metadata": {},
   "outputs": [],
   "source": [
    "class posterior_guide_nn(PyroModule):\n",
    "    def __init__(self, in_features, lay1_out, lay2_out):\n",
    "        super().__init__()\n",
    "        self.fa1 = nn.Linear(in_features, lay1_out).to(device)\n",
    "        self.fa2 = nn.Linear(lay1_out, lay2_out).to(device)\n",
    "        self.fa3 = nn.Linear(lay2_out,1).to(device)\n",
    "\n",
    "        self.pa1 = nn.Linear(in_features, lay1_out).to(device)\n",
    "        self.pa2 = nn.Linear(lay1_out, lay2_out).to(device)\n",
    "        self.pa3 = nn.Linear(lay2_out,1).to(device)\n",
    "\n",
    "        self.fb1 = nn.Linear(in_features, lay1_out).to(device)\n",
    "        self.fb2 = nn.Linear(lay1_out, lay2_out).to(device)\n",
    "        self.fb3 = nn.Linear(lay2_out,1).to(device)\n",
    "        \n",
    "        self.pb1 = nn.Linear(in_features, lay1_out).to(device)\n",
    "        self.pb2 = nn.Linear(lay1_out, lay2_out).to(device)\n",
    "        self.pb3 = nn.Linear(lay2_out,1).to(device)\n",
    "\n",
    "    def freq_nn_a(self, input):\n",
    "        z = nn.functional.relu(self.fa1(input))\n",
    "        z = nn.functional.relu(self.fa2(z))\n",
    "        return self.fa3(z)\n",
    "    \n",
    "    def phase_nn_a(self, input):\n",
    "        z = nn.functional.relu(self.pa1(input))\n",
    "        z = nn.functional.relu(self.pa2(z))\n",
    "        return self.pa3(z)\n",
    "    \n",
    "    def freq_nn_b(self, input):\n",
    "        z = nn.functional.relu(self.fb1(input))\n",
    "        z = nn.functional.relu(self.fb2(z))\n",
    "        return self.fb3(z)\n",
    "    \n",
    "    def phase_nn_b(self, input):\n",
    "        z = nn.functional.relu(self.pb1(input))\n",
    "        z = nn.functional.relu(self.pb2(z))\n",
    "        return self.pb3(z)\n",
    "    \n",
    "    def forward(self, y_dict, design, observation_labels, target_labels):\n",
    "\n",
    "        y = y_dict[\"y\"].float().to(device)\n",
    "        #z = torch.cat((y,design), dim=-1).float() # concatenate times of design into nn input\n",
    "        \n",
    "        freq_alpha = self.freq_nn_a(y).squeeze().to(device)\n",
    "        phase_alpha = self.phase_nn_a(y).squeeze().to(device)\n",
    "\n",
    "        freq_beta = self.freq_nn_b(y).squeeze().to(device)\n",
    "        phase_beta = self.phase_nn_b(y).squeeze().to(device)\n",
    "\n",
    "        pyro.sample(\"w\", dist.AffineBeta(freq_alpha.exp(), freq_beta.exp(), 1, 2)).to(device)\n",
    "        pyro.sample(\"phase\", dist.AffineBeta(phase_alpha.exp(), phase_beta.exp(), np.pi/2, np.pi)).to(device)"
   ]
  },
  {
   "cell_type": "code",
   "execution_count": 86,
   "metadata": {},
   "outputs": [],
   "source": [
    "vnmc_upper_bound = {}\n",
    "vnmc_lower_bound = {}\n",
    "pyro.set_rng_seed(4)\n",
    "num_steps = 100\n",
    "N = 3000\n",
    "M = np.sqrt(N).astype(int)\n",
    "\n",
    "nn_guide = posterior_guide_nn(designs.shape[-1], 32, 64)\n",
    "for times in designs:\n",
    "    pyro.clear_param_store()\n",
    "    lower_eig, upper_eig = vnmc_eig(model,\n",
    "                    times,                          # tensor of possible designs\n",
    "                    \"y\",                            # observation labels\n",
    "                    [\"w\", \"phase\"],                 # target (parameter) labels\n",
    "                    num_samples=(N,M),              # tuple of outer and inner (respectively) num of samples\n",
    "                    num_steps=num_steps,            # number of gradient steps\n",
    "                    guide=nn_guide,                 # guide q(y)\n",
    "                    optim=Adam({'lr': 0.001}),       # optimizer \n",
    "                    return_history=False,             # returns a tensor giving the loss function at each step of optimization\n",
    "                    contrastive=True\n",
    "                    )\n",
    "    vnmc_upper_bound[times] = upper_eig\n",
    "    vnmc_lower_bound[times] = lower_eig\n"
   ]
  },
  {
   "cell_type": "code",
   "execution_count": 81,
   "metadata": {},
   "outputs": [
    {
     "data": {
      "image/png": "[encoded data removed]",
      "text/plain": [
       "<Figure size 432x288 with 1 Axes>"
      ]
     },
     "metadata": {
      "needs_background": "light"
     },
     "output_type": "display_data"
    }
   ],
   "source": [
    "vnmc_eigs_lower = np.array([i.cpu().detach().numpy() for i in vnmc_lower_bound.values()])\n",
    "vnmc_eigs_upper = np.array([i.cpu().detach().numpy() for i in vnmc_upper_bound.values()])\n",
    "plt.scatter(range(len(designs)), vnmc_eigs_lower, alpha=0.5, label=\"lower bound\")\n",
    "plt.scatter(range(len(designs)), vnmc_eigs_upper, alpha=0.5, label=\"upper bound\")\n",
    "plt.legend()\n",
    "plt.show()"
   ]
  },
  {
   "cell_type": "code",
   "execution_count": 84,
   "metadata": {},
   "outputs": [
    {
     "data": {
      "image/png": "[encoded data removed]",
      "text/plain": [
       "<Figure size 432x288 with 1 Axes>"
      ]
     },
     "metadata": {
      "needs_background": "light"
     },
     "output_type": "display_data"
    }
   ],
   "source": [
    "vnmc_eigs_lower = np.array([i.cpu().detach().numpy() for i in vnmc_lower_bound.values()])\n",
    "vnmc_eigs_upper = np.array([i.cpu().detach().numpy() for i in vnmc_upper_bound.values()])\n",
    "plt.scatter(range(len(designs)), vnmc_eigs_lower, alpha=0.5, label=\"lower bound\")\n",
    "plt.scatter(range(len(designs)), vnmc_eigs_upper, alpha=0.5, label=\"upper bound\")\n",
    "plt.legend()\n",
    "plt.show()"
   ]
  },
  {
   "cell_type": "code",
   "execution_count": 82,
   "metadata": {},
   "outputs": [
    {
     "data": {
      "image/png": "[encoded data removed]",
      "text/plain": [
       "<Figure size 576x576 with 2 Axes>"
      ]
     },
     "metadata": {
      "needs_background": "light"
     },
     "output_type": "display_data"
    }
   ],
   "source": [
    "vnmc_eigs_list = np.array([i.cpu().detach().numpy() for i in vnmc_upper_bound.values()])\n",
    "plt.figure(figsize=(8,8))\n",
    "img_2D = plt.imshow(vnmc_eigs_list.reshape(8,8), origin=\"lower\")\n",
    "cbar = plt.colorbar(img_2D)\n",
    "cbar.set_label(\"utility\")\n",
    "plt.xlabel(\"Time Sample 1\")\n",
    "plt.ylabel(\"Time Sample 2\")\n",
    "plt.show()"
   ]
  },
  {
   "cell_type": "code",
   "execution_count": null,
   "metadata": {},
   "outputs": [],
   "source": []
  }
 ],
 "metadata": {
  "kernelspec": {
   "display_name": "Python 3",
   "language": "python",
   "name": "python3"
  },
  "language_info": {
   "codemirror_mode": {
    "name": "ipython",
    "version": 3
   },
   "file_extension": ".py",
   "mimetype": "text/x-python",
   "name": "python",
   "nbconvert_exporter": "python",
   "pygments_lexer": "ipython3",
   "version": "3.8.10"
  },
  "vscode": {
   "interpreter": {
    "hash": "e7370f93d1d0cde622a1f8e1c04877d8463912d04d973331ad4851f04de6915a"
   }
  }
 },
 "nbformat": 4,
 "nbformat_minor": 2
}
