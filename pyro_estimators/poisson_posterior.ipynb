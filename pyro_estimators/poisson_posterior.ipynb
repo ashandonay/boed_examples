{
 "cells": [
  {
   "cell_type": "code",
   "execution_count": 2,
   "metadata": {},
   "outputs": [],
   "source": [
    "import torch\n",
    "from torch import nn\n",
    "\n",
    "import numpy as np\n",
    "import pandas as pd\n",
    "from scipy.stats import norm\n",
    "from urllib.request import urlopen\n",
    "\n",
    "from torch.distributions.constraints import positive\n",
    "\n",
    "import pyro\n",
    "import pyro.distributions as dist\n",
    "from pyro.infer import SVI, Trace_ELBO\n",
    "from pyro.optim import Adam\n",
    "from pyro.contrib.oed.eig import marginal_eig\n",
    "from pyro.nn.module import to_pyro_module_\n",
    "import pyro.poutine as poutine\n",
    "from pyro.contrib.util import lexpand\n",
    "from pyro.nn import PyroModule, PyroSample, PyroParam\n",
    "\n",
    "import os\n",
    "import sys\n",
    "parent_dir_abs = os.path.abspath(os.pardir)\n",
    "sys.path.insert(0, parent_dir_abs) \n",
    "from pyro_oed_src import posterior_eig\n",
    "\n",
    "import matplotlib\n",
    "import matplotlib.pyplot as plt\n",
    "import matplotlib.colors as colors\n",
    "import matplotlib.cm as cmx\n",
    "import math"
   ]
  },
  {
   "cell_type": "code",
   "execution_count": 3,
   "metadata": {},
   "outputs": [
    {
     "name": "stdout",
     "output_type": "stream",
     "text": [
      "Using device: cuda.\n"
     ]
    }
   ],
   "source": [
    "device = torch.device(\"cuda\") if torch.cuda.is_available() else \"cpu\"\n",
    "#device = \"cpu\"\n",
    "print(f'Using device: {device}.')"
   ]
  },
  {
   "cell_type": "code",
   "execution_count": 4,
   "metadata": {},
   "outputs": [],
   "source": [
    "# thresholds for measuring data\n",
    "designs = [0,2,4,6,8,10]"
   ]
  },
  {
   "cell_type": "code",
   "execution_count": 12,
   "metadata": {},
   "outputs": [
    {
     "data": {
      "text/plain": [
       "tensor(2., device='cuda:0')"
      ]
     },
     "execution_count": 12,
     "metadata": {},
     "output_type": "execute_result"
    }
   ],
   "source": [
    "torch.poisson(torch.tensor(5.0, device=device))"
   ]
  },
  {
   "cell_type": "code",
   "execution_count": 51,
   "metadata": {},
   "outputs": [],
   "source": [
    "lam_0 = torch.tensor(0.0, device=device)\n",
    "lam_1 = torch.tensor(10.0, device=device)\n",
    "n = torch.tensor(1000, device=device)\n",
    "\n",
    "def model(d):\n",
    "    samples = []\n",
    "    with pyro.plate(\"plate\", n): \n",
    "        theta = pyro.sample(\"theta\", dist.Uniform(lam_0,lam_1)).to(device)\n",
    "        m = pyro.sample(\"m\", dist.Poisson(theta)).to(device)\n",
    "        samples.append(m)\n",
    "    return torch.sum(torch.stack(samples) >= d)"
   ]
  },
  {
   "cell_type": "code",
   "execution_count": 35,
   "metadata": {},
   "outputs": [
    {
     "data": {
      "text/plain": [
       "tensor(5061., device='cuda:0', requires_grad=True)"
      ]
     },
     "execution_count": 35,
     "metadata": {},
     "output_type": "execute_result"
    }
   ],
   "source": [
    "pyro.get_param_store()['y']"
   ]
  },
  {
   "cell_type": "code",
   "execution_count": null,
   "metadata": {},
   "outputs": [],
   "source": []
  }
 ],
 "metadata": {
  "kernelspec": {
   "display_name": "Python 3",
   "language": "python",
   "name": "python3"
  },
  "language_info": {
   "codemirror_mode": {
    "name": "ipython",
    "version": 3
   },
   "file_extension": ".py",
   "mimetype": "text/x-python",
   "name": "python",
   "nbconvert_exporter": "python",
   "pygments_lexer": "ipython3",
   "version": "3.8.10"
  },
  "orig_nbformat": 4,
  "vscode": {
   "interpreter": {
    "hash": "e7370f93d1d0cde622a1f8e1c04877d8463912d04d973331ad4851f04de6915a"
   }
  }
 },
 "nbformat": 4,
 "nbformat_minor": 2
}
