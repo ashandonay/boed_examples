{
 "cells": [
  {
   "cell_type": "code",
   "execution_count": null,
   "metadata": {},
   "outputs": [],
   "source": [
    "import torch\n",
    "from torch import nn\n",
    "\n",
    "import numpy as np\n",
    "import pandas as pd\n",
    "from scipy.stats import norm\n",
    "from urllib.request import urlopen\n",
    "\n",
    "from torch.distributions.constraints import positive\n",
    "\n",
    "import pyro\n",
    "import pyro.distributions as dist\n",
    "from pyro.infer import SVI, Trace_ELBO\n",
    "from pyro.optim import Adam\n",
    "\n",
    "import os\n",
    "import sys\n",
    "parent_dir_abs = os.path.abspath(os.pardir)\n",
    "sys.path.insert(0, parent_dir_abs) \n",
    "from pyro_oed_src import vnmc_eig\n",
    "\n",
    "import matplotlib\n",
    "import matplotlib.pyplot as plt\n",
    "import matplotlib.colors as colors\n",
    "import matplotlib.cm as cmx"
   ]
  },
  {
   "cell_type": "code",
   "execution_count": 21,
   "metadata": {},
   "outputs": [
    {
     "name": "stdout",
     "output_type": "stream",
     "text": [
      "torch.Size([64, 2])\n"
     ]
    }
   ],
   "source": [
    "N = 2000 # total number of points\n",
    "p = 8 # num of samples per each axis of (t_1, t_2)\n",
    "\n",
    "x = np.linspace(0, N, p, endpoint=False)\n",
    "y = np.linspace(0, N, p, endpoint=False)\n",
    "x2D,y2D = np.meshgrid(x,y)\n",
    "indices = np.stack((x2D,y2D),axis=2).reshape(-1,2).astype(int)\n",
    "times = np.linspace(0,2*np.pi,N)\n",
    "\n",
    "designs = torch.tensor(times[indices])\n",
    "#designs = torch.tensor(indices)\n",
    "print(designs.shape[-2:])"
   ]
  },
  {
   "cell_type": "code",
   "execution_count": 22,
   "metadata": {},
   "outputs": [],
   "source": [
    "w_1 = torch.tensor(1.0)\n",
    "w_2 = torch.tensor(3.0)\n",
    "sigma = torch.tensor(0.1)\n",
    "\n",
    "def model(t):\n",
    "    w = pyro.sample(\"w\", dist.Uniform(w_1,w_2))\n",
    "    phase = pyro.sample(\"phase\", dist.Uniform(np.pi/2, 3*np.pi/2))\n",
    "    with pyro.plate_stack(\"plate\", t.shape[:-1]): # create a continguous stack of plates, Pyro adds dimensions to the left\n",
    "        y_true = torch.sin(w*t+phase)\n",
    "        return pyro.sample(\"y\", dist.Normal(y_true,sigma).to_event(1)) # to_event: num of batch dimensions (from right) to reinterpret as event dimensions"
   ]
  },
  {
   "cell_type": "code",
   "execution_count": 23,
   "metadata": {},
   "outputs": [],
   "source": [
    "class posterior_guide_nn(nn.Module):\n",
    "    def __init__(self, in_features, lay1_out, lay2_out):\n",
    "        super().__init__()\n",
    "        self.fa1 = nn.Linear(in_features, lay1_out)\n",
    "        self.fa2 = nn.Linear(lay1_out, lay2_out)\n",
    "        self.fa3 = nn.Linear(lay2_out,1)\n",
    "\n",
    "        self.pa1 = nn.Linear(in_features, lay1_out)\n",
    "        self.pa2 = nn.Linear(lay1_out, lay2_out)\n",
    "        self.pa3 = nn.Linear(lay2_out,1)\n",
    "\n",
    "        self.fb1 = nn.Linear(in_features, lay1_out)\n",
    "        self.fb2 = nn.Linear(lay1_out, lay2_out)\n",
    "        self.fb3 = nn.Linear(lay2_out,1)\n",
    "        \n",
    "        self.pb1 = nn.Linear(in_features, lay1_out)\n",
    "        self.pb2 = nn.Linear(lay1_out, lay2_out)\n",
    "        self.pb3 = nn.Linear(lay2_out,1)\n",
    "\n",
    "\n",
    "    def freq_nn_a(self, input):\n",
    "        z = nn.functional.relu(self.fa1(input))\n",
    "        z = nn.functional.relu(self.fa2(z))\n",
    "        return self.fa3(z)\n",
    "    \n",
    "    def phase_nn_a(self, input):\n",
    "        z = nn.functional.relu(self.pa1(input))\n",
    "        z = nn.functional.relu(self.pa2(z))\n",
    "        return self.pa3(z)\n",
    "    \n",
    "    def freq_nn_b(self, input):\n",
    "        z = nn.functional.relu(self.fb1(input))\n",
    "        z = nn.functional.relu(self.fb2(z))\n",
    "        return self.fb3(z)\n",
    "    \n",
    "    def phase_nn_b(self, input):\n",
    "        z = nn.functional.relu(self.pb1(input))\n",
    "        z = nn.functional.relu(self.pb2(z))\n",
    "        return self.pb3(z)\n",
    "    \n",
    "    def forward(self, y_dict, design, observation_labels, target_labels):\n",
    "\n",
    "        pyro.module(\"posterior_guide\", self) # registers all parameters of a torch.nn.Module with Pyro's param_store\n",
    "\n",
    "        y = y_dict[\"y\"].float()\n",
    "        #z = torch.cat((y,design), dim=-1).float() # concatenate times of design into nn input\n",
    "        \n",
    "        freq_alpha = self.freq_nn_a(y).exp()\n",
    "        phase_alpha = self.phase_nn_a(y).exp()\n",
    "\n",
    "        freq_beta = self.freq_nn_b(y).exp()\n",
    "        phase_beta = self.phase_nn_b(y).exp()\n",
    "\n",
    "        pyro.sample(\"w\", dist.AffineBeta(freq_alpha, freq_beta, 1, 2)) # scaled beta distribution inputs:(alpha, beta, loc, scale) f(X) = loc + scale*X\n",
    "        pyro.sample(\"phase\", dist.AffineBeta(phase_alpha, phase_beta, np.pi/2, np.pi))"
   ]
  },
  {
   "cell_type": "code",
   "execution_count": 24,
   "metadata": {},
   "outputs": [],
   "source": [
    "vnmc_upper_bound = []\n",
    "vnmc_lower_bound = []\n",
    "pyro.set_rng_seed(4)\n",
    "num_steps = 100\n",
    "N = 50\n",
    "M = np.sqrt(N).astype(int)\n",
    "\n",
    "nn_guide = posterior_guide_nn(designs.shape[-1], 32, 64)\n",
    "for times in designs:\n",
    "    pyro.clear_param_store()\n",
    "    lower_eig, upper_eig = vnmc_eig(model,\n",
    "                    times,                          # tensor of possible designs\n",
    "                    \"y\",                            # observation labels\n",
    "                    [\"w\", \"phase\"],                 # target (parameter) labels\n",
    "                    num_samples=(N,M),              # tuple of outer and inner (respectively) num of samples\n",
    "                    num_steps=num_steps,            # number of gradient steps\n",
    "                    guide=nn_guide,                 # guide q(y)\n",
    "                    optim=Adam({'lr': 0.01}),       # optimizer \n",
    "                    return_history=False,             # returns a tensor giving the loss function at each step of optimization\n",
    "                    contrastive=True\n",
    "                    ) \n",
    "    vnmc_lower_bound.append(lower_eig)\n",
    "    vnmc_upper_bound.append(upper_eig)\n",
    "    #full_history_vnmc.append((history_lower, history_upper))\n"
   ]
  },
  {
   "cell_type": "code",
   "execution_count": 25,
   "metadata": {},
   "outputs": [
    {
     "data": {
      "image/png": "[encoded data removed]",
      "text/plain": [
       "<Figure size 640x480 with 1 Axes>"
      ]
     },
     "metadata": {},
     "output_type": "display_data"
    }
   ],
   "source": [
    "vnmc_lower = np.array([i.detach().numpy() for i in vnmc_lower_bound])\n",
    "vnmc_upper = np.array([i.detach().numpy() for i in vnmc_upper_bound])\n",
    "plt.scatter(range(len(designs)), vnmc_lower, alpha=0.5, label=\"lower bound\")\n",
    "plt.scatter(range(len(designs)), vnmc_upper, alpha=0.5, label=\"upper bound\")\n",
    "plt.legend()\n",
    "plt.show()"
   ]
  },
  {
   "cell_type": "code",
   "execution_count": null,
   "metadata": {},
   "outputs": [],
   "source": []
  }
 ],
 "metadata": {
  "kernelspec": {
   "display_name": "MLS",
   "language": "python",
   "name": "python3"
  },
  "language_info": {
   "codemirror_mode": {
    "name": "ipython",
    "version": 3
   },
   "file_extension": ".py",
   "mimetype": "text/x-python",
   "name": "python",
   "nbconvert_exporter": "python",
   "pygments_lexer": "ipython3",
   "version": "3.8.16"
  },
  "orig_nbformat": 4,
  "vscode": {
   "interpreter": {
    "hash": "7e09d02278ba209f210bb6a42b1031707356e3c826fdfc1c7cee65eb908dbba9"
   }
  }
 },
 "nbformat": 4,
 "nbformat_minor": 2
}
