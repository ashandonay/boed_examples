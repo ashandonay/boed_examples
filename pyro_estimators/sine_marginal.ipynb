{
 "cells": [
  {
   "cell_type": "code",
   "execution_count": 8,
   "metadata": {},
   "outputs": [],
   "source": [
    "import torch\n",
    "from torch import nn\n",
    "\n",
    "import numpy as np\n",
    "import pandas as pd\n",
    "from scipy.stats import norm\n",
    "from urllib.request import urlopen\n",
    "\n",
    "from torch.distributions.constraints import positive\n",
    "\n",
    "import pyro\n",
    "import pyro.distributions as dist\n",
    "from pyro.infer import SVI, Trace_ELBO\n",
    "from pyro.optim import Adam\n",
    "\n",
    "from pyro.contrib.oed.eig import marginal_eig\n",
    "\n",
    "import matplotlib.pyplot as plt"
   ]
  },
  {
   "cell_type": "code",
   "execution_count": 3,
   "metadata": {},
   "outputs": [
    {
     "name": "stdout",
     "output_type": "stream",
     "text": [
      "torch.Size([64, 2])\n"
     ]
    }
   ],
   "source": [
    "N = 2000 # total number of points\n",
    "p = 8 # num of samples per each axis of (t_1, t_2)\n",
    "\n",
    "x = np.linspace(0, N, p, endpoint=False)\n",
    "y = np.linspace(0, N, p, endpoint=False)\n",
    "x2D,y2D = np.meshgrid(x,y)\n",
    "indices = np.stack((x2D,y2D),axis=2).reshape(-1,2).astype(int)\n",
    "times = np.linspace(0,2*np.pi,N)\n",
    "\n",
    "designs = torch.tensor(times[indices])\n",
    "#designs = torch.tensor(indices)\n",
    "print(designs.shape[-2:])"
   ]
  },
  {
   "cell_type": "code",
   "execution_count": 4,
   "metadata": {},
   "outputs": [],
   "source": [
    "w_1 = torch.tensor(1.0)\n",
    "w_2 = torch.tensor(3.0)\n",
    "sigma = torch.tensor(0.1)\n",
    "\n",
    "def model(t):\n",
    "    w = pyro.sample(\"w\", dist.Uniform(w_1,w_2))\n",
    "    phase = pyro.sample(\"phase\", dist.Uniform(np.pi/2, 3*np.pi/2))\n",
    "    with pyro.plate_stack(\"plate\", t.shape[:-1]): \n",
    "        y_true = torch.sin(w*t+phase)\n",
    "        return pyro.sample(\"y\", dist.Normal(y_true,sigma).to_event(1))"
   ]
  },
  {
   "cell_type": "code",
   "execution_count": 5,
   "metadata": {},
   "outputs": [],
   "source": [
    "def marginal_guide(design, observation_labels, target_labels):\n",
    "    marg_mean = pyro.param(\"marg_mean\", torch.ones(design.shape))\n",
    "    marg_sd = pyro.param(\"marg_sd\", torch.ones(design.shape), constraint=positive)\n",
    "    pyro.sample(\"y\", dist.Normal(marg_mean, marg_sd).to_event(1))"
   ]
  },
  {
   "cell_type": "code",
   "execution_count": 6,
   "metadata": {},
   "outputs": [],
   "source": [
    "pyro.clear_param_store()\n",
    "num_steps, start_lr, end_lr = 1000, 0.1, 0.001\n",
    "optimizer = pyro.optim.ExponentialLR({'optimizer': torch.optim.Adam,\n",
    "                                      'optim_args': {'lr': start_lr},\n",
    "                                      'gamma': (end_lr / start_lr) ** (1 / num_steps)})\n",
    "\n",
    "marginal_eig_output = marginal_eig(model,\n",
    "                   designs,                 # tensor of possible designs\n",
    "                   \"y\",                     # observation labels\n",
    "                   [\"w\", \"phase\"],          # target (parameter) labels\n",
    "                   num_samples=2000,         # number of samples to draw per step in the expectation\n",
    "                   num_steps=num_steps,     # number of gradient steps\n",
    "                   guide=marginal_guide,   # guide q(y)\n",
    "                   optim=optimizer,         # optimizer with learning rate decay\n",
    "                   ) "
   ]
  },
  {
   "cell_type": "code",
   "execution_count": 9,
   "metadata": {},
   "outputs": [
    {
     "data": {
      "image/png": "[encoded data removed]",
      "text/plain": [
       "<Figure size 800x800 with 2 Axes>"
      ]
     },
     "metadata": {},
     "output_type": "display_data"
    }
   ],
   "source": [
    "plt.figure(figsize=(8,8))\n",
    "img_2D = plt.imshow(marginal_eig_output.detach().numpy().reshape(p,p), origin=\"lower\")\n",
    "cbar = plt.colorbar(img_2D)\n",
    "cbar.set_label(\"utility\")\n",
    "plt.xlabel(\"Time Sample 1\")\n",
    "plt.ylabel(\"Time Sample 2\")\n",
    "plt.show()"
   ]
  },
  {
   "cell_type": "code",
   "execution_count": null,
   "metadata": {},
   "outputs": [],
   "source": []
  }
 ],
 "metadata": {
  "kernelspec": {
   "display_name": "Python 3",
   "language": "python",
   "name": "python3"
  },
  "language_info": {
   "codemirror_mode": {
    "name": "ipython",
    "version": 3
   },
   "file_extension": ".py",
   "mimetype": "text/x-python",
   "name": "python",
   "nbconvert_exporter": "python",
   "pygments_lexer": "ipython3",
   "version": "3.8.10"
  },
  "orig_nbformat": 4,
  "vscode": {
   "interpreter": {
    "hash": "e7370f93d1d0cde622a1f8e1c04877d8463912d04d973331ad4851f04de6915a"
   }
  }
 },
 "nbformat": 4,
 "nbformat_minor": 2
}
